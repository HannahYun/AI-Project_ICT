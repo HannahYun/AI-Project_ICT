{
 "cells": [
  {
   "cell_type": "code",
   "execution_count": 2,
   "metadata": {},
   "outputs": [
    {
     "data": {
      "text/plain": [
       "'2.1.0'"
      ]
     },
     "execution_count": 2,
     "metadata": {},
     "output_type": "execute_result"
    }
   ],
   "source": [
    "import tensorflow as tf\n",
    "tf.__version__"
   ]
  },
  {
   "cell_type": "code",
   "execution_count": 3,
   "metadata": {},
   "outputs": [],
   "source": [
    "import warnings\n",
    "warnings.filterwarnings('ignore')"
   ]
  },
  {
   "cell_type": "code",
   "execution_count": 4,
   "metadata": {},
   "outputs": [
    {
     "name": "stdout",
     "output_type": "stream",
     "text": [
      "3.6.10 |Anaconda, Inc.| (default, May  7 2020, 19:46:08) [MSC v.1916 64 bit (AMD64)]\n",
      "2.2.4-tf\n"
     ]
    }
   ],
   "source": [
    "import sys\n",
    "print(sys.version)\n",
    "from tensorflow import keras \n",
    "print(keras.__version__)"
   ]
  },
  {
   "cell_type": "markdown",
   "metadata": {},
   "source": [
    "- Python version 3.6이어야 함."
   ]
  },
  {
   "cell_type": "markdown",
   "metadata": {},
   "source": [
    "# LSTM"
   ]
  },
  {
   "cell_type": "code",
   "execution_count": 6,
   "metadata": {},
   "outputs": [],
   "source": [
    "from tensorflow.keras.datasets import reuters\n",
    "from tensorflow.keras.models import Sequential\n",
    "from tensorflow.keras.layers import Dense, LSTM, Embedding\n",
    "from tensorflow.keras.utils import to_categorical\n",
    "from tensorflow.keras.callbacks import ModelCheckpoint, EarlyStopping\n",
    "from tensorflow.keras.preprocessing import sequence\n",
    "\n",
    "import tensorflow as tf\n",
    "import numpy as np\n",
    "import matplotlib.pyplot as plt\n",
    "import sys\n",
    "import os"
   ]
  },
  {
   "cell_type": "markdown",
   "metadata": {},
   "source": [
    "#### 자료 불러오기"
   ]
  },
  {
   "cell_type": "code",
   "execution_count": 7,
   "metadata": {},
   "outputs": [
    {
     "name": "stdout",
     "output_type": "stream",
     "text": [
      "Downloading data from https://storage.googleapis.com/tensorflow/tf-keras-datasets/reuters.npz\n",
      "2113536/2110848 [==============================] - 0s 0us/step\n",
      "46 카테고리\n",
      "8982 학습용 뉴스 기사\n",
      "2246 테스트용 뉴스 기사\n",
      "[1, 2, 2, 8, 43, 10, 2, 5, 25, 2, 2, 5, 2, 2, 16, 2, 2, 90, 67, 7, 89, 5, 19, 2, 6, 19, 2, 15, 90, 67, 84, 22, 2, 26, 7, 48, 4, 49, 8, 2, 39, 2, 2, 6, 2, 6, 83, 11, 15, 22, 2, 11, 15, 7, 48, 9, 2, 2, 2, 6, 2, 6, 2, 11, 15, 22, 2, 44, 11, 15, 16, 8, 2, 2, 90, 67, 52, 29, 2, 30, 32, 2, 6, 2, 15, 17, 12]\n",
      "87\n"
     ]
    }
   ],
   "source": [
    "# data 불러오기\n",
    "(X_train, Y_train), (X_test, Y_test) = reuters.load_data(num_words = 100, test_split = 0.2) #80:20\n",
    "\n",
    "# 데이터 확인\n",
    "category = np.max(Y_train) + 1\n",
    "print(category, '카테고리')\n",
    "print(len(X_train), '학습용 뉴스 기사')\n",
    "print(len(X_test), '테스트용 뉴스 기사')\n",
    "print( X_train[0] )\n",
    "print( len(X_train[0]) )\n",
    "#각 단어가 나타나는 빈도 순위(1:빈도 가장 많음)"
   ]
  },
  {
   "cell_type": "code",
   "execution_count": 8,
   "metadata": {},
   "outputs": [
    {
     "name": "stdout",
     "output_type": "stream",
     "text": [
      "87\n",
      "100\n",
      "(8982, 46) (2246, 46)\n"
     ]
    }
   ],
   "source": [
    "# 데이터 전처리\n",
    "x_train = sequence.pad_sequences(X_train, maxlen=100) #길이 100으로, 모자라면 0을 채워줌(t=1부터 100까지)\n",
    "x_test = sequence.pad_sequences(X_test, maxlen=100)\n",
    "print( len(X_train[0]) )\n",
    "print( len(x_train[0]) )\n",
    "\n",
    "y_train = to_categorical(Y_train)\n",
    "y_test = to_categorical(Y_test)\n",
    "print(y_train.shape, y_test.shape)"
   ]
  },
  {
   "cell_type": "code",
   "execution_count": 9,
   "metadata": {},
   "outputs": [
    {
     "data": {
      "text/plain": [
       "array([ 0,  0,  0,  0,  0,  0,  0,  0,  0,  0,  0,  0,  0,  1,  2,  2,  8,\n",
       "       43, 10,  2,  5, 25,  2,  2,  5,  2,  2, 16,  2,  2, 90, 67,  7, 89,\n",
       "        5, 19,  2,  6, 19,  2, 15, 90, 67, 84, 22,  2, 26,  7, 48,  4, 49,\n",
       "        8,  2, 39,  2,  2,  6,  2,  6, 83, 11, 15, 22,  2, 11, 15,  7, 48,\n",
       "        9,  2,  2,  2,  6,  2,  6,  2, 11, 15, 22,  2, 44, 11, 15, 16,  8,\n",
       "        2,  2, 90, 67, 52, 29,  2, 30, 32,  2,  6,  2, 15, 17, 12])"
      ]
     },
     "execution_count": 9,
     "metadata": {},
     "output_type": "execute_result"
    }
   ],
   "source": [
    "x_train[0]"
   ]
  },
  {
   "cell_type": "code",
   "execution_count": 10,
   "metadata": {},
   "outputs": [
    {
     "data": {
      "text/plain": [
       "array([0., 0., 0., 1., 0., 0., 0., 0., 0., 0., 0., 0., 0., 0., 0., 0., 0.,\n",
       "       0., 0., 0., 0., 0., 0., 0., 0., 0., 0., 0., 0., 0., 0., 0., 0., 0.,\n",
       "       0., 0., 0., 0., 0., 0., 0., 0., 0., 0., 0., 0.], dtype=float32)"
      ]
     },
     "execution_count": 10,
     "metadata": {},
     "output_type": "execute_result"
    }
   ],
   "source": [
    "y_train[0]"
   ]
  },
  {
   "cell_type": "code",
   "execution_count": 11,
   "metadata": {},
   "outputs": [
    {
     "data": {
      "text/plain": [
       "array([ 5,  2,  7,  2, 48,  9,  2,  7,  2,  2,  2,  2,  2, 97,  2,  2,  7,\n",
       "        4,  2, 98,  2,  2,  2, 25, 39,  2, 22,  2,  2,  2,  2, 59, 20,  6,\n",
       "        2, 61, 11, 15, 58,  2, 26, 10, 67,  7,  4,  2, 98, 43, 88,  2,  2,\n",
       "       12, 20,  6, 19,  2, 35, 15, 10,  9,  2,  2,  2,  2, 21,  4,  2,  2,\n",
       "        2, 51, 16,  2,  2, 16,  2,  4, 99, 29,  5,  4,  2,  2, 48, 10,  9,\n",
       "        2, 23,  2, 47, 20,  2, 27, 56,  2,  2,  5,  2,  2, 17, 12])"
      ]
     },
     "execution_count": 11,
     "metadata": {},
     "output_type": "execute_result"
    }
   ],
   "source": [
    "x_test[0]"
   ]
  },
  {
   "cell_type": "code",
   "execution_count": 12,
   "metadata": {},
   "outputs": [
    {
     "data": {
      "text/plain": [
       "array([0., 0., 0., 1., 0., 0., 0., 0., 0., 0., 0., 0., 0., 0., 0., 0., 0.,\n",
       "       0., 0., 0., 0., 0., 0., 0., 0., 0., 0., 0., 0., 0., 0., 0., 0., 0.,\n",
       "       0., 0., 0., 0., 0., 0., 0., 0., 0., 0., 0., 0.], dtype=float32)"
      ]
     },
     "execution_count": 12,
     "metadata": {},
     "output_type": "execute_result"
    }
   ],
   "source": [
    "y_test[0]"
   ]
  },
  {
   "cell_type": "markdown",
   "metadata": {},
   "source": [
    "#### 모델 설정(adam optimizer)"
   ]
  },
  {
   "cell_type": "code",
   "execution_count": 13,
   "metadata": {},
   "outputs": [],
   "source": [
    "#adam optimizer\n",
    "seed=0\n",
    "np.random.seed(seed)\n",
    "tf.compat.v1.set_random_seed(seed)\n",
    "\n",
    "# 모델의 설정\n",
    "model = Sequential()\n",
    "model.add(Embedding(1000, 100)) #Embedding: sparse 벡터를 변환 / 1000: 단어의 총 개수 / 100: 길이 100\n",
    "model.add(LSTM(100, activation = 'tanh')) #t=1부터 100까지\n",
    "model.add(Dense(46, activation = 'softmax'))\n",
    "\n",
    "# 모델 컴파일\n",
    "model.compile(loss='categorical_crossentropy', optimizer='adam',\n",
    "             metrics=['accuracy'])"
   ]
  },
  {
   "cell_type": "code",
   "execution_count": 14,
   "metadata": {
    "scrolled": true
   },
   "outputs": [
    {
     "name": "stdout",
     "output_type": "stream",
     "text": [
      "Train on 8982 samples, validate on 2246 samples\n",
      "Epoch 1/30\n",
      "8982/8982 [==============================] - 11s 1ms/sample - loss: 2.6046 - accuracy: 0.3456 - val_loss: 2.4112 - val_accuracy: 0.3620\n",
      "Epoch 2/30\n",
      "8982/8982 [==============================] - 9s 997us/sample - loss: 2.1873 - accuracy: 0.4463 - val_loss: 2.0798 - val_accuracy: 0.4849\n",
      "Epoch 3/30\n",
      "8982/8982 [==============================] - 9s 978us/sample - loss: 2.0559 - accuracy: 0.4899 - val_loss: 2.0299 - val_accuracy: 0.5062\n",
      "Epoch 4/30\n",
      "8982/8982 [==============================] - 9s 993us/sample - loss: 2.0336 - accuracy: 0.4984 - val_loss: 2.0036 - val_accuracy: 0.5125\n",
      "Epoch 5/30\n",
      "8982/8982 [==============================] - 9s 971us/sample - loss: 1.9400 - accuracy: 0.5041 - val_loss: 1.8905 - val_accuracy: 0.5134\n",
      "Epoch 6/30\n",
      "8982/8982 [==============================] - 9s 955us/sample - loss: 1.8571 - accuracy: 0.5111 - val_loss: 1.8701 - val_accuracy: 0.5307\n",
      "Epoch 7/30\n",
      "8982/8982 [==============================] - 9s 977us/sample - loss: 1.7881 - accuracy: 0.5353 - val_loss: 1.7810 - val_accuracy: 0.5485\n",
      "Epoch 8/30\n",
      "8982/8982 [==============================] - 9s 977us/sample - loss: 1.7546 - accuracy: 0.5479 - val_loss: 1.7523 - val_accuracy: 0.5539\n",
      "Epoch 9/30\n",
      "8982/8982 [==============================] - 9s 963us/sample - loss: 1.7145 - accuracy: 0.5583 - val_loss: 1.7461 - val_accuracy: 0.5606\n",
      "Epoch 10/30\n",
      "8982/8982 [==============================] - 9s 969us/sample - loss: 1.6772 - accuracy: 0.5739 - val_loss: 1.7055 - val_accuracy: 0.5721\n",
      "Epoch 11/30\n",
      "8982/8982 [==============================] - 9s 975us/sample - loss: 1.6537 - accuracy: 0.5776 - val_loss: 1.6723 - val_accuracy: 0.5775\n",
      "Epoch 12/30\n",
      "8982/8982 [==============================] - 9s 973us/sample - loss: 1.6035 - accuracy: 0.5973 - val_loss: 1.6444 - val_accuracy: 0.5913\n",
      "Epoch 13/30\n",
      "8982/8982 [==============================] - 9s 973us/sample - loss: 1.5530 - accuracy: 0.6112 - val_loss: 1.5932 - val_accuracy: 0.5962\n",
      "Epoch 14/30\n",
      "8982/8982 [==============================] - 9s 968us/sample - loss: 1.5046 - accuracy: 0.6264 - val_loss: 1.5182 - val_accuracy: 0.6260\n",
      "Epoch 15/30\n",
      "8982/8982 [==============================] - 9s 961us/sample - loss: 1.4395 - accuracy: 0.6379 - val_loss: 1.5083 - val_accuracy: 0.6180\n",
      "Epoch 16/30\n",
      "8982/8982 [==============================] - 9s 964us/sample - loss: 1.4095 - accuracy: 0.6468 - val_loss: 1.4687 - val_accuracy: 0.6273\n",
      "Epoch 17/30\n",
      "8982/8982 [==============================] - 9s 981us/sample - loss: 1.3780 - accuracy: 0.6491 - val_loss: 1.4619 - val_accuracy: 0.6291\n",
      "Epoch 18/30\n",
      "8982/8982 [==============================] - 9s 970us/sample - loss: 1.3556 - accuracy: 0.6532 - val_loss: 1.4487 - val_accuracy: 0.6389\n",
      "Epoch 19/30\n",
      "8982/8982 [==============================] - 9s 980us/sample - loss: 1.3492 - accuracy: 0.6544 - val_loss: 1.4410 - val_accuracy: 0.6416\n",
      "Epoch 20/30\n",
      "8982/8982 [==============================] - 9s 968us/sample - loss: 1.3212 - accuracy: 0.6607 - val_loss: 1.4388 - val_accuracy: 0.6407\n",
      "Epoch 21/30\n",
      "8982/8982 [==============================] - 9s 984us/sample - loss: 1.3114 - accuracy: 0.6663 - val_loss: 1.4307 - val_accuracy: 0.6380\n",
      "Epoch 22/30\n",
      "8982/8982 [==============================] - 9s 994us/sample - loss: 1.2935 - accuracy: 0.6676 - val_loss: 1.4258 - val_accuracy: 0.6429\n",
      "Epoch 23/30\n",
      "8982/8982 [==============================] - 9s 972us/sample - loss: 1.2729 - accuracy: 0.6747 - val_loss: 1.4238 - val_accuracy: 0.6492\n",
      "Epoch 24/30\n",
      "8982/8982 [==============================] - 9s 972us/sample - loss: 1.2571 - accuracy: 0.6761 - val_loss: 1.4059 - val_accuracy: 0.6532\n",
      "Epoch 25/30\n",
      "8982/8982 [==============================] - 9s 978us/sample - loss: 1.2415 - accuracy: 0.6771 - val_loss: 1.4036 - val_accuracy: 0.6496\n",
      "Epoch 26/30\n",
      "8982/8982 [==============================] - 9s 970us/sample - loss: 1.2245 - accuracy: 0.6838 - val_loss: 1.4100 - val_accuracy: 0.6474\n",
      "Epoch 27/30\n",
      "8982/8982 [==============================] - 9s 964us/sample - loss: 1.2106 - accuracy: 0.6856 - val_loss: 1.4040 - val_accuracy: 0.6514\n",
      "Epoch 28/30\n",
      "8982/8982 [==============================] - 9s 994us/sample - loss: 1.1917 - accuracy: 0.6917 - val_loss: 1.4193 - val_accuracy: 0.6500\n",
      "Epoch 29/30\n",
      "8982/8982 [==============================] - 9s 980us/sample - loss: 1.1948 - accuracy: 0.6902 - val_loss: 1.4085 - val_accuracy: 0.6541\n",
      "Epoch 30/30\n",
      "8982/8982 [==============================] - 9s 978us/sample - loss: 1.1777 - accuracy: 0.6924 - val_loss: 1.4115 - val_accuracy: 0.6478\n"
     ]
    }
   ],
   "source": [
    "# 모델 학습\n",
    "train_history = model.fit(x_train, y_train, batch_size=100,\n",
    "                         epochs=30, validation_data=(x_test, y_test))"
   ]
  },
  {
   "cell_type": "code",
   "execution_count": 15,
   "metadata": {},
   "outputs": [
    {
     "name": "stdout",
     "output_type": "stream",
     "text": [
      "8982/8982 [==============================] - 4s 465us/sample - loss: 1.1339 - accuracy: 0.7035\n",
      "Train accuracy: 0.7035\n"
     ]
    }
   ],
   "source": [
    "# 학습셋 정확도 \n",
    "print('Train accuracy: %.4f' % (model.evaluate(x_train, y_train)[1]))"
   ]
  },
  {
   "cell_type": "code",
   "execution_count": 16,
   "metadata": {},
   "outputs": [
    {
     "name": "stdout",
     "output_type": "stream",
     "text": [
      "2246/2246 [==============================] - 1s 483us/sample - loss: 1.4115 - accuracy: 0.6478\n",
      "Test accuracy: 0.6478\n"
     ]
    }
   ],
   "source": [
    "# 테스트셋 정확도 \n",
    "print('Test accuracy: %.4f' % (model.evaluate(x_test, y_test)[1]))"
   ]
  },
  {
   "cell_type": "code",
   "execution_count": 17,
   "metadata": {},
   "outputs": [
    {
     "data": {
      "image/png": "[encoded data removed]",
      "text/plain": [
       "<Figure size 432x288 with 1 Axes>"
      ]
     },
     "metadata": {
      "needs_background": "light"
     },
     "output_type": "display_data"
    }
   ],
   "source": [
    "# 오차 비교\n",
    "vloss = train_history.history['val_loss']\n",
    "loss = train_history.history['loss']\n",
    "\n",
    "x_len = np.arange(len(loss))\n",
    "plt.plot(x_len, vloss, marker='.', c='red', label='Testset_loss')\n",
    "plt.plot(x_len, loss, marker='.', c='blue', label='Trainset_loss')\n",
    "\n",
    "plt.legend(loc='best')\n",
    "plt.grid()\n",
    "plt.xlabel('epoch')\n",
    "plt.ylabel('loss')\n",
    "plt.show()"
   ]
  },
  {
   "cell_type": "code",
   "execution_count": 18,
   "metadata": {},
   "outputs": [
    {
     "data": {
      "image/png": "[encoded data removed]",
      "text/plain": [
       "<Figure size 432x288 with 1 Axes>"
      ]
     },
     "metadata": {
      "needs_background": "light"
     },
     "output_type": "display_data"
    }
   ],
   "source": [
    "# 정확도\n",
    "vacc = train_history.history['val_accuracy']\n",
    "acc = train_history.history['accuracy']\n",
    "\n",
    "x_len = np.arange(len(acc))\n",
    "plt.plot(x_len, vacc, marker='.', c='red', label='Testset_accuracy')\n",
    "plt.plot(x_len, acc, marker='.', c='blue', label='Trainset_accuracy')\n",
    "\n",
    "plt.legend(loc='best')\n",
    "plt.grid()\n",
    "plt.xlabel('epoch')\n",
    "plt.ylabel('accuracy')\n",
    "plt.show()"
   ]
  }
 ],
 "metadata": {
  "kernelspec": {
   "display_name": "Python 3",
   "language": "python",
   "name": "python3"
  },
  "language_info": {
   "codemirror_mode": {
    "name": "ipython",
    "version": 3
   },
   "file_extension": ".py",
   "mimetype": "text/x-python",
   "name": "python",
   "nbconvert_exporter": "python",
   "pygments_lexer": "ipython3",
   "version": "3.8.8"
  }
 },
 "nbformat": 4,
 "nbformat_minor": 4
}
